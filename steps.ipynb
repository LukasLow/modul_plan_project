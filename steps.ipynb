{
 "cells": [
  {
   "cell_type": "code",
   "execution_count": 9,
   "metadata": {},
   "outputs": [],
   "source": [
    "from tabula import read_pdf\n",
    "from tabulate import tabulate\n",
    "import pandas as pd"
   ]
  },
  {
   "cell_type": "code",
   "execution_count": 10,
   "metadata": {},
   "outputs": [
    {
     "name": "stderr",
     "output_type": "stream",
     "text": [
      "/var/folders/9m/y6tf99612bng47yzc4k5cd5r0000gn/T/ipykernel_52657/1565397954.py:1: FutureWarning: Passing a negative integer is deprecated in version 1.0 and will not be supported in future version. Instead, use None to not limit the column width.\n",
      "  pd.set_option('display.max_colwidth', -1)\n"
     ]
    },
    {
     "name": "stdout",
     "output_type": "stream",
     "text": [
      "[                                     Lehrveranstaltung: Bioinformatik (Vorlesung, Übung)  \\\n",
      "0   Inhalte:                                                                               \n",
      "1   Im Rahmen dieser Veranstaltung werden grundlegende Verfahren zur elektronischen        \n",
      "2   Datenerfassung und Grundlagen der Internet-basierten Bioinformatik behandelt           \n",
      "3   (Datenbanksysteme). Es werden Methoden zur Analyse und Visualisierung der              \n",
      "4   erhobenen Daten vorgestellt. Ein wichtiger Anspekt ist darüber hinaus die Einführung   \n",
      "5   in R-Programmierung. Alle behandelten Konzepte werden praktisch im Rahmen von          \n",
      "6   (Computer-) Übungen vertieft.                                                          \n",
      "7   Prüfung: Mündlich (ca. 20 Minuten)                                                     \n",
      "8   Prüfungsanforderungen:                                                                 \n",
      "9   Grundlegende Kenntnisse von Datenbanken,  Programmierung sowie Analyse und             \n",
      "10  Visualisierung von Daten.                                                              \n",
      "\n",
      "   4 SWS  \n",
      "0   NaN   \n",
      "1   NaN   \n",
      "2   NaN   \n",
      "3   NaN   \n",
      "4   NaN   \n",
      "5   NaN   \n",
      "6   NaN   \n",
      "7   6 C   \n",
      "8   NaN   \n",
      "9   NaN   \n",
      "10  NaN   ,       Zugangsvoraussetzungen:  Empfohlene Vorkenntnisse:\n",
      "0  keine                       keine                    \n",
      "1  Sprache:                    Modulverantwortliche[r]: \n",
      "2  Deutsch                     Dr. Mehmet Gültas        \n",
      "3  Angebotshäufigkeit:         Dauer:                   \n",
      "4  jedes Sommersemester        1 Semester               \n",
      "5  Wiederholbarkeit:           Empfohlenes Fachsemester:\n",
      "6  zweimalig                   NaN                      \n",
      "7  Maximale Studierendenzahl:  NaN                      \n",
      "8  36                          NaN                      ]\n"
     ]
    }
   ],
   "source": [
    "pd.set_option('display.max_colwidth', -1)\n",
    "df = read_pdf(\"./ModuleDS7.pdf\", pages=15, multiple_tables=True)\n",
    "print(df)"
   ]
  },
  {
   "cell_type": "code",
   "execution_count": 7,
   "metadata": {},
   "outputs": [],
   "source": [
    "import csv\n",
    "\n",
    "# open the file in the write mode\n",
    "with open('table2.csv', 'w') as f:\n",
    "    # create the csv writer\n",
    "    writer = csv.writer(f)\n",
    "\n",
    "    # write a row to the csv file\n",
    "    writer.writerow(df)"
   ]
  }
 ],
 "metadata": {
  "kernelspec": {
   "display_name": "modul_plan_project",
   "language": "python",
   "name": "python3"
  },
  "language_info": {
   "codemirror_mode": {
    "name": "ipython",
    "version": 3
   },
   "file_extension": ".py",
   "mimetype": "text/x-python",
   "name": "python",
   "nbconvert_exporter": "python",
   "pygments_lexer": "ipython3",
   "version": "3.10.9"
  },
  "orig_nbformat": 4,
  "vscode": {
   "interpreter": {
    "hash": "d12831596b3e23886c1c07f5f73a518191a7ed978e5ece75b5472ac40dbaac15"
   }
  }
 },
 "nbformat": 4,
 "nbformat_minor": 2
}
